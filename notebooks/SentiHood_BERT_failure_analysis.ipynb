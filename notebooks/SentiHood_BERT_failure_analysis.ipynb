{
  "nbformat": 4,
  "nbformat_minor": 0,
  "metadata": {
    "colab": {
      "name": "SentiHood_BERT_failure_analysis.ipynb",
      "provenance": [],
      "mount_file_id": "1gMVhKeIGl0LK9W4KlX3FgAkNTrQ6IrY1",
      "authorship_tag": "ABX9TyMxPvpY0NsGyPpd/UZJC+dO",
      "include_colab_link": true
    },
    "kernelspec": {
      "name": "python3",
      "display_name": "Python 3"
    },
    "language_info": {
      "name": "python"
    }
  },
  "cells": [
    {
      "cell_type": "markdown",
      "metadata": {
        "id": "view-in-github",
        "colab_type": "text"
      },
      "source": [
        "<a href=\"https://colab.research.google.com/github/Bhavnicksm/ABSA-SentiHood/blob/main/SentiHood_BERT_failure_analysis.ipynb\" target=\"_parent\"><img src=\"https://colab.research.google.com/assets/colab-badge.svg\" alt=\"Open In Colab\"/></a>"
      ]
    },
    {
      "cell_type": "code",
      "source": [
        "import json\n",
        "from collections import Counter"
      ],
      "metadata": {
        "id": "gvtlm909cVvd"
      },
      "execution_count": 30,
      "outputs": []
    },
    {
      "cell_type": "code",
      "source": [
        "train_path = \"/content/drive/MyDrive/SentiHood/data/sentihood-train.json\"\n",
        "with open(train_path, 'r') as file:\n",
        "  train = json.loads(file.read())\n",
        "\n",
        "dev_path = \"/content/drive/MyDrive/SentiHood/data/sentihood-dev.json\"\n",
        "with open(dev_path, 'r') as file:\n",
        "  dev = json.loads(file.read())\n",
        "\n",
        "test_path = \"/content/drive/MyDrive/SentiHood/data/sentihood-test.json\"\n",
        "with open(test_path, 'r') as file:\n",
        "  test = json.loads(file.read())\n",
        "\n",
        "\n",
        "print(len(train), len(dev), len(test))"
      ],
      "metadata": {
        "colab": {
          "base_uri": "https://localhost:8080/"
        },
        "id": "1E9wDvOer78G",
        "outputId": "03875197-f3df-4f2f-de17-355c1eecbe1e"
      },
      "execution_count": 48,
      "outputs": [
        {
          "output_type": "stream",
          "name": "stdout",
          "text": [
            "2977 747 1491\n"
          ]
        }
      ]
    },
    {
      "cell_type": "code",
      "execution_count": 16,
      "metadata": {
        "colab": {
          "base_uri": "https://localhost:8080/"
        },
        "id": "URxkjJJ7OfVy",
        "outputId": "366eb0cd-3acb-45b3-f4e7-b868d7b9e9ad"
      },
      "outputs": [
        {
          "output_type": "stream",
          "name": "stdout",
          "text": [
            "1491\n"
          ]
        }
      ],
      "source": [
        "sub_path = \"/content/drive/MyDrive/SentiHood/models/roberta-large/submission.jsonl\"\n",
        "\n",
        "with open(sub_path, 'r') as file:\n",
        "  sub = []\n",
        "  for line in file:\n",
        "    sub.append(json.loads(line))\n",
        "\n",
        "\n",
        "print(len(sub))"
      ]
    },
    {
      "cell_type": "code",
      "source": [
        "err = []\n",
        "\n",
        "for ex in sub:\n",
        "  if ex['opinions'] != ex['model_pred']:\n",
        "    err.append(ex)\n",
        "\n",
        "print(len(err))"
      ],
      "metadata": {
        "colab": {
          "base_uri": "https://localhost:8080/"
        },
        "id": "e5PMLtOHcbOi",
        "outputId": "d275ad10-bc71-41c3-cbae-ef640934cccd"
      },
      "execution_count": 17,
      "outputs": [
        {
          "output_type": "stream",
          "name": "stdout",
          "text": [
            "367\n"
          ]
        }
      ]
    },
    {
      "cell_type": "code",
      "source": [
        "right = []\n",
        "\n",
        "for ex in sub:\n",
        "  if ex['opinions'] == ex['model_pred']:\n",
        "    right.append(ex)\n",
        "\n",
        "print(len(right))"
      ],
      "metadata": {
        "colab": {
          "base_uri": "https://localhost:8080/"
        },
        "id": "toolu-cEpjqp",
        "outputId": "d3e66910-b681-4429-f3ac-27f760a8ba23"
      },
      "execution_count": 44,
      "outputs": [
        {
          "output_type": "stream",
          "name": "stdout",
          "text": [
            "1124\n"
          ]
        }
      ]
    },
    {
      "cell_type": "code",
      "source": [
        "from pprint import pprint"
      ],
      "metadata": {
        "id": "oQn0WxKFlzgM"
      },
      "execution_count": 21,
      "outputs": []
    },
    {
      "cell_type": "code",
      "source": [
        "pprint(err)"
      ],
      "metadata": {
        "id": "tbhzPeMgl2L6"
      },
      "execution_count": null,
      "outputs": []
    },
    {
      "cell_type": "code",
      "source": [
        "fp = []\n",
        "fn = []\n",
        "for example in  err:\n",
        "  mp = example['model_pred']\n",
        "  op = example['opinions']\n",
        "  if len(mp) > len(op):\n",
        "    fp.append((op, mp))\n",
        "  else:\n",
        "    fn.append((op,mp))\n",
        "\n",
        "  # print(fp, fn)\n",
        "\n",
        "print(len(fp), len(fn))"
      ],
      "metadata": {
        "colab": {
          "base_uri": "https://localhost:8080/"
        },
        "id": "1aNvTmsheyUA",
        "outputId": "6503d096-b381-48cb-d55c-7b422ee01896"
      },
      "execution_count": 29,
      "outputs": [
        {
          "output_type": "stream",
          "name": "stdout",
          "text": [
            "185 182\n"
          ]
        }
      ]
    },
    {
      "cell_type": "code",
      "source": [
        "err_fp_counter = Counter()\n",
        "err_fn_counter = Counter()\n",
        "err_fp_asp_counter = Counter()\n",
        "err_fn_asp_counter = Counter()\n",
        "\n",
        "for example in err:\n",
        "  mp_set = set()\n",
        "  for mp in example['model_pred']:\n",
        "    mp_set.add(tuple(mp.values()))\n",
        "  # print(mp_set)\n",
        "  op_set = set()\n",
        "  for op in example['opinions']:\n",
        "    op_set.add(tuple(op.values()))\n",
        "  # print(op_set)\n",
        "\n",
        "  if len(mp_set) > len(op_set):\n",
        "    err_exs = list(mp_set.difference(op_set))\n",
        "    err_fp_counter.update(err_exs)\n",
        "    for err_ex in err_exs:\n",
        "      err_fp_asp_counter.update([err_ex[0]])\n",
        "  else:\n",
        "    err_exs = list(op_set.difference(mp_set))\n",
        "    err_fn_counter.update(err_exs)\n",
        "    for err_ex in err_exs:\n",
        "      err_fn_asp_counter.update([err_ex[1]])"
      ],
      "metadata": {
        "id": "RcV9TGs_jCMr"
      },
      "execution_count": 39,
      "outputs": []
    },
    {
      "cell_type": "code",
      "source": [
        "print(\"Aspects predicted falsely most commonly\")\n",
        "pprint(err_fp_asp_counter.most_common())"
      ],
      "metadata": {
        "colab": {
          "base_uri": "https://localhost:8080/"
        },
        "id": "NxshFf4PndZP",
        "outputId": "52a1076d-621b-4a1f-f88d-137d4dc60c9b"
      },
      "execution_count": 42,
      "outputs": [
        {
          "output_type": "stream",
          "name": "stdout",
          "text": [
            "Aspects predicted falsely most commonly\n",
            "[('general', 76),\n",
            " ('price', 47),\n",
            " ('transit-location', 44),\n",
            " ('safety', 37),\n",
            " ('nightlife', 33),\n",
            " ('live', 31),\n",
            " ('green-nature', 31),\n",
            " ('dining', 26),\n",
            " ('quiet', 24),\n",
            " ('multicultural', 23),\n",
            " ('shopping', 23),\n",
            " ('touristy', 17)]\n"
          ]
        }
      ]
    },
    {
      "cell_type": "code",
      "source": [
        "print(\"Aspects missed out in prediction most commonly\")\n",
        "pprint(err_fn_asp_counter.most_common())"
      ],
      "metadata": {
        "colab": {
          "base_uri": "https://localhost:8080/"
        },
        "id": "NKjcpIIZpBxn",
        "outputId": "189d003f-7c58-41d2-fbe1-a6241dd6a35b"
      },
      "execution_count": 43,
      "outputs": [
        {
          "output_type": "stream",
          "name": "stdout",
          "text": [
            "Aspects missed out in prediction most commonly\n",
            "[('general', 124),\n",
            " ('transit-location', 73),\n",
            " ('price', 67),\n",
            " ('safety', 37),\n",
            " ('live', 23),\n",
            " ('quiet', 20),\n",
            " ('nightlife', 15),\n",
            " ('green-nature', 13),\n",
            " ('touristy', 13),\n",
            " ('shopping', 12),\n",
            " ('multicultural', 11),\n",
            " ('dining', 9)]\n"
          ]
        }
      ]
    },
    {
      "cell_type": "code",
      "source": [
        "right_asp_counter = Counter()\n",
        "for example in right:\n",
        "  for pred in example['model_pred']:\n",
        "    right_asp_counter.update([pred['aspect']])"
      ],
      "metadata": {
        "id": "Md2CJ78gpJbp"
      },
      "execution_count": 46,
      "outputs": []
    },
    {
      "cell_type": "code",
      "source": [
        "print(\"Aspects predicted right most commonly\")\n",
        "pprint(right_asp_counter.most_common())"
      ],
      "metadata": {
        "colab": {
          "base_uri": "https://localhost:8080/"
        },
        "id": "mfYP_jVJqAyK",
        "outputId": "c5a186c9-4f87-458f-91af-0f31b74ecc99"
      },
      "execution_count": 47,
      "outputs": [
        {
          "output_type": "stream",
          "name": "stdout",
          "text": [
            "Aspects predicted right most commonly\n",
            "[('general', 400),\n",
            " ('price', 158),\n",
            " ('transit-location', 123),\n",
            " ('safety', 105),\n",
            " ('live', 67),\n",
            " ('nightlife', 58),\n",
            " ('shopping', 57),\n",
            " ('multicultural', 36),\n",
            " ('green-nature', 29),\n",
            " ('dining', 22),\n",
            " ('touristy', 16),\n",
            " ('quiet', 14)]\n"
          ]
        }
      ]
    }
  ]
}